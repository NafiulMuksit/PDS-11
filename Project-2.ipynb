{
 "cells": [
  {
   "cell_type": "code",
   "execution_count": 1,
   "id": "60de342f-6eb7-4f8c-bd54-92441d37467a",
   "metadata": {},
   "outputs": [],
   "source": [
    "import numpy as np \n",
    "import pandas as pd\n",
    "from sklearn.cluster import KMeans\n",
    "import matplotlib.pyplot as plt"
   ]
  },
  {
   "cell_type": "code",
   "execution_count": 3,
   "id": "283d4445-f4e6-4aba-b95b-c1830d2c9f4b",
   "metadata": {},
   "outputs": [],
   "source": [
    "'''\n",
    "1. Create a CSV file with the name, ‘term-test-1-result.csv’.\n",
    "There’ll be three columns: ‘Registration Number’, ‘Name’, and ‘TT-1 Marks’.\n",
    "You must include 50 students with their respective values for each column in the file.\n",
    "'''\n",
    "reg_numbers = []\n",
    "for i in range(50):\n",
    "    reg_numbers.append(2018731000+(i+1))\n",
    "name = []\n",
    "for i in range(50):\n",
    "    name.append(\"Student_\"+str(i+1))\n",
    "tt_1 = np.random.randint(1,21,50)\n",
    "df_1 = pd.DataFrame({\n",
    "    'Registration Number': reg_numbers,\n",
    "    'Name': name,\n",
    "    'TT-1 Marks': tt_1 \n",
    "})\n",
    "df_1.to_csv('term-test-1-result.csv')"
   ]
  },
  {
   "cell_type": "code",
   "execution_count": 5,
   "id": "f8467022-8803-43ce-b55f-a4ca252c485b",
   "metadata": {},
   "outputs": [],
   "source": [
    "'''\n",
    "2. Follow step 1 and create another CSV file with the name, ‘term-test-2-result.csv’.\n",
    "‘Registration Number’, ‘Name’ columns will have the same values as mentioned in the\n",
    "‘term-test-1-result.csv’ file. The value of the ‘TT-2 Marks’ column is most likely to be changed.\n",
    "'''\n",
    "\n",
    "tt_2 = np.random.randint(1,20,50)\n",
    "df_2 = pd.DataFrame({\n",
    "    'Registration Number': reg_numbers,\n",
    "    'Name': name,\n",
    "    'TT-2 Marks': tt_2\n",
    "})\n",
    "df_2.to_csv('term-test-2-result.csv')\n"
   ]
  },
  {
   "cell_type": "code",
   "execution_count": 7,
   "id": "978ab9ef-b11f-4335-b441-44f4a959a68f",
   "metadata": {},
   "outputs": [
    {
     "data": {
      "text/html": [
       "<div>\n",
       "<style scoped>\n",
       "    .dataframe tbody tr th:only-of-type {\n",
       "        vertical-align: middle;\n",
       "    }\n",
       "\n",
       "    .dataframe tbody tr th {\n",
       "        vertical-align: top;\n",
       "    }\n",
       "\n",
       "    .dataframe thead th {\n",
       "        text-align: right;\n",
       "    }\n",
       "</style>\n",
       "<table border=\"1\" class=\"dataframe\">\n",
       "  <thead>\n",
       "    <tr style=\"text-align: right;\">\n",
       "      <th></th>\n",
       "      <th>Registration Number</th>\n",
       "      <th>Name</th>\n",
       "      <th>TT-1 Marks</th>\n",
       "      <th>TT-2 Marks</th>\n",
       "    </tr>\n",
       "  </thead>\n",
       "  <tbody>\n",
       "    <tr>\n",
       "      <th>0</th>\n",
       "      <td>2018731001</td>\n",
       "      <td>Student_1</td>\n",
       "      <td>3</td>\n",
       "      <td>8</td>\n",
       "    </tr>\n",
       "    <tr>\n",
       "      <th>1</th>\n",
       "      <td>2018731002</td>\n",
       "      <td>Student_2</td>\n",
       "      <td>15</td>\n",
       "      <td>15</td>\n",
       "    </tr>\n",
       "    <tr>\n",
       "      <th>2</th>\n",
       "      <td>2018731003</td>\n",
       "      <td>Student_3</td>\n",
       "      <td>11</td>\n",
       "      <td>16</td>\n",
       "    </tr>\n",
       "    <tr>\n",
       "      <th>3</th>\n",
       "      <td>2018731004</td>\n",
       "      <td>Student_4</td>\n",
       "      <td>4</td>\n",
       "      <td>11</td>\n",
       "    </tr>\n",
       "    <tr>\n",
       "      <th>4</th>\n",
       "      <td>2018731005</td>\n",
       "      <td>Student_5</td>\n",
       "      <td>17</td>\n",
       "      <td>10</td>\n",
       "    </tr>\n",
       "  </tbody>\n",
       "</table>\n",
       "</div>"
      ],
      "text/plain": [
       "   Registration Number       Name  TT-1 Marks  TT-2 Marks\n",
       "0           2018731001  Student_1           3           8\n",
       "1           2018731002  Student_2          15          15\n",
       "2           2018731003  Student_3          11          16\n",
       "3           2018731004  Student_4           4          11\n",
       "4           2018731005  Student_5          17          10"
      ]
     },
     "execution_count": 7,
     "metadata": {},
     "output_type": "execute_result"
    }
   ],
   "source": [
    "'''\n",
    "3. Load both the files in different pandas dataframes.\n",
    "Make a new merged pandas dataframe on their ‘Registration Number’ column.\n",
    "'''\n",
    "\n",
    "df_tt1 = pd.read_csv('term-test-1-result.csv',index_col=False)\n",
    "df_tt2 = pd.read_csv('term-test-2-result.csv',index_col=False)\n",
    "\n",
    "merged_df = pd.merge(df_tt1, df_tt2, on='Registration Number', how='inner') \n",
    "\n",
    "merged_df.to_csv('merged_term_test_results.csv', index=False)\n",
    "merged_df = merged_df.drop(columns=['Unnamed: 0_x', 'Unnamed: 0_y','Name_y'])\n",
    "merged_df.rename(columns={'Name_x': 'Name'}, inplace=True)\n",
    "merged_df.head()"
   ]
  },
  {
   "cell_type": "code",
   "execution_count": 9,
   "id": "98660c6c-1fd7-4f2b-ba26-680ab85f5af8",
   "metadata": {},
   "outputs": [
    {
     "data": {
      "text/html": [
       "<div>\n",
       "<style scoped>\n",
       "    .dataframe tbody tr th:only-of-type {\n",
       "        vertical-align: middle;\n",
       "    }\n",
       "\n",
       "    .dataframe tbody tr th {\n",
       "        vertical-align: top;\n",
       "    }\n",
       "\n",
       "    .dataframe thead th {\n",
       "        text-align: right;\n",
       "    }\n",
       "</style>\n",
       "<table border=\"1\" class=\"dataframe\">\n",
       "  <thead>\n",
       "    <tr style=\"text-align: right;\">\n",
       "      <th></th>\n",
       "      <th>Registration Number</th>\n",
       "      <th>Name</th>\n",
       "      <th>TT-1 Marks</th>\n",
       "      <th>TT-2 Marks</th>\n",
       "      <th>Best Marks</th>\n",
       "      <th>Average Marks</th>\n",
       "    </tr>\n",
       "  </thead>\n",
       "  <tbody>\n",
       "    <tr>\n",
       "      <th>0</th>\n",
       "      <td>2018731001</td>\n",
       "      <td>Student_1</td>\n",
       "      <td>3</td>\n",
       "      <td>8</td>\n",
       "      <td>8</td>\n",
       "      <td>5.5</td>\n",
       "    </tr>\n",
       "    <tr>\n",
       "      <th>1</th>\n",
       "      <td>2018731002</td>\n",
       "      <td>Student_2</td>\n",
       "      <td>15</td>\n",
       "      <td>15</td>\n",
       "      <td>15</td>\n",
       "      <td>15.0</td>\n",
       "    </tr>\n",
       "    <tr>\n",
       "      <th>2</th>\n",
       "      <td>2018731003</td>\n",
       "      <td>Student_3</td>\n",
       "      <td>11</td>\n",
       "      <td>16</td>\n",
       "      <td>16</td>\n",
       "      <td>13.5</td>\n",
       "    </tr>\n",
       "    <tr>\n",
       "      <th>3</th>\n",
       "      <td>2018731004</td>\n",
       "      <td>Student_4</td>\n",
       "      <td>4</td>\n",
       "      <td>11</td>\n",
       "      <td>11</td>\n",
       "      <td>7.5</td>\n",
       "    </tr>\n",
       "    <tr>\n",
       "      <th>4</th>\n",
       "      <td>2018731005</td>\n",
       "      <td>Student_5</td>\n",
       "      <td>17</td>\n",
       "      <td>10</td>\n",
       "      <td>17</td>\n",
       "      <td>13.5</td>\n",
       "    </tr>\n",
       "  </tbody>\n",
       "</table>\n",
       "</div>"
      ],
      "text/plain": [
       "   Registration Number       Name  TT-1 Marks  TT-2 Marks  Best Marks  \\\n",
       "0           2018731001  Student_1           3           8           8   \n",
       "1           2018731002  Student_2          15          15          15   \n",
       "2           2018731003  Student_3          11          16          16   \n",
       "3           2018731004  Student_4           4          11          11   \n",
       "4           2018731005  Student_5          17          10          17   \n",
       "\n",
       "   Average Marks  \n",
       "0            5.5  \n",
       "1           15.0  \n",
       "2           13.5  \n",
       "3            7.5  \n",
       "4           13.5  "
      ]
     },
     "execution_count": 9,
     "metadata": {},
     "output_type": "execute_result"
    }
   ],
   "source": [
    "'''\n",
    "4. Make a new column with the best term test marks for each student.\n",
    "Make a new column with the average term test marks for each student.\n",
    "'''\n",
    "merged_df['Best Marks'] = merged_df[['TT-1 Marks', 'TT-2 Marks']].max(axis=1)\n",
    "\n",
    "merged_df['Average Marks'] = merged_df[['TT-1 Marks', 'TT-2 Marks']].mean(axis=1)\n",
    "merged_df.head()"
   ]
  },
  {
   "cell_type": "code",
   "execution_count": 11,
   "id": "5bed354e-7fa9-4eef-8a22-8ceb393740a7",
   "metadata": {
    "scrolled": true
   },
   "outputs": [
    {
     "data": {
      "text/html": [
       "<div>\n",
       "<style scoped>\n",
       "    .dataframe tbody tr th:only-of-type {\n",
       "        vertical-align: middle;\n",
       "    }\n",
       "\n",
       "    .dataframe tbody tr th {\n",
       "        vertical-align: top;\n",
       "    }\n",
       "\n",
       "    .dataframe thead th {\n",
       "        text-align: right;\n",
       "    }\n",
       "</style>\n",
       "<table border=\"1\" class=\"dataframe\">\n",
       "  <thead>\n",
       "    <tr style=\"text-align: right;\">\n",
       "      <th></th>\n",
       "      <th>Registration Number</th>\n",
       "      <th>Name</th>\n",
       "      <th>Best Marks</th>\n",
       "      <th>Average Marks</th>\n",
       "    </tr>\n",
       "  </thead>\n",
       "  <tbody>\n",
       "    <tr>\n",
       "      <th>0</th>\n",
       "      <td>2018731001</td>\n",
       "      <td>Student_1</td>\n",
       "      <td>8</td>\n",
       "      <td>5.5</td>\n",
       "    </tr>\n",
       "    <tr>\n",
       "      <th>1</th>\n",
       "      <td>2018731002</td>\n",
       "      <td>Student_2</td>\n",
       "      <td>15</td>\n",
       "      <td>15.0</td>\n",
       "    </tr>\n",
       "    <tr>\n",
       "      <th>2</th>\n",
       "      <td>2018731003</td>\n",
       "      <td>Student_3</td>\n",
       "      <td>16</td>\n",
       "      <td>13.5</td>\n",
       "    </tr>\n",
       "    <tr>\n",
       "      <th>3</th>\n",
       "      <td>2018731004</td>\n",
       "      <td>Student_4</td>\n",
       "      <td>11</td>\n",
       "      <td>7.5</td>\n",
       "    </tr>\n",
       "    <tr>\n",
       "      <th>4</th>\n",
       "      <td>2018731005</td>\n",
       "      <td>Student_5</td>\n",
       "      <td>17</td>\n",
       "      <td>13.5</td>\n",
       "    </tr>\n",
       "  </tbody>\n",
       "</table>\n",
       "</div>"
      ],
      "text/plain": [
       "   Registration Number       Name  Best Marks  Average Marks\n",
       "0           2018731001  Student_1           8            5.5\n",
       "1           2018731002  Student_2          15           15.0\n",
       "2           2018731003  Student_3          16           13.5\n",
       "3           2018731004  Student_4          11            7.5\n",
       "4           2018731005  Student_5          17           13.5"
      ]
     },
     "execution_count": 11,
     "metadata": {},
     "output_type": "execute_result"
    }
   ],
   "source": [
    "'''\n",
    "5. Drop both the columns named ‘TT-1 Marks’ and ‘TT-2 Marks’\n",
    "'''\n",
    "merged_df = merged_df.drop(columns=['TT-1 Marks', 'TT-2 Marks'])\n",
    "merged_df.head()"
   ]
  },
  {
   "cell_type": "code",
   "execution_count": 13,
   "id": "0ca69927-a81d-4130-940a-472be700298d",
   "metadata": {},
   "outputs": [],
   "source": [
    "'''\n",
    "6. Write the content of the latest pandas dataframe to a new CSV file named ‘final term test result.csv’.\n",
    "'''\n",
    "merged_df.to_csv('final term test result.csv', index=False)\n"
   ]
  },
  {
   "cell_type": "code",
   "execution_count": 25,
   "id": "4d05e293-71a5-4983-bb7f-0b7c51e6d45c",
   "metadata": {},
   "outputs": [
    {
     "name": "stderr",
     "output_type": "stream",
     "text": [
      "C:\\Users\\ASUS\\anaconda3\\Lib\\site-packages\\sklearn\\cluster\\_kmeans.py:1429: UserWarning: KMeans is known to have a memory leak on Windows with MKL, when there are less chunks than available threads. You can avoid it by setting the environment variable OMP_NUM_THREADS=1.\n",
      "  warnings.warn(\n",
      "C:\\Users\\ASUS\\anaconda3\\Lib\\site-packages\\sklearn\\cluster\\_kmeans.py:1429: UserWarning: KMeans is known to have a memory leak on Windows with MKL, when there are less chunks than available threads. You can avoid it by setting the environment variable OMP_NUM_THREADS=1.\n",
      "  warnings.warn(\n",
      "C:\\Users\\ASUS\\anaconda3\\Lib\\site-packages\\sklearn\\cluster\\_kmeans.py:1429: UserWarning: KMeans is known to have a memory leak on Windows with MKL, when there are less chunks than available threads. You can avoid it by setting the environment variable OMP_NUM_THREADS=1.\n",
      "  warnings.warn(\n",
      "C:\\Users\\ASUS\\anaconda3\\Lib\\site-packages\\sklearn\\cluster\\_kmeans.py:1429: UserWarning: KMeans is known to have a memory leak on Windows with MKL, when there are less chunks than available threads. You can avoid it by setting the environment variable OMP_NUM_THREADS=1.\n",
      "  warnings.warn(\n"
     ]
    },
    {
     "data": {
      "image/png": "[encoded data removed]",
      "text/plain": [
       "<Figure size 640x480 with 1 Axes>"
      ]
     },
     "metadata": {},
     "output_type": "display_data"
    }
   ],
   "source": [
    "'''\n",
    "7. Cluster the average marks of each student using K-Means clustering algorithm. (1<K<6) \n",
    "Visualize the final clusters. \n",
    "'''\n",
    "wcss = []\n",
    "for k in range(2, 6):\n",
    "    kmeans = KMeans(n_clusters=k, random_state=42, n_init=10) \n",
    "    kmeans.fit(merged_df[['Average Marks']])\n",
    "    wcss.append(kmeans.inertia_)\n",
    "\n",
    "plt.plot(range(2, 6), wcss, marker='o')\n",
    "plt.title('Elbow Method for Optimal K')\n",
    "plt.xlabel('Number of Clusters (K)')\n",
    "plt.ylabel('wcss')\n",
    "plt.show()"
   ]
  },
  {
   "cell_type": "code",
   "execution_count": 27,
   "id": "c0a929be-f4d4-4443-b00a-a2f7826d55f4",
   "metadata": {},
   "outputs": [
    {
     "name": "stderr",
     "output_type": "stream",
     "text": [
      "C:\\Users\\ASUS\\anaconda3\\Lib\\site-packages\\sklearn\\cluster\\_kmeans.py:1429: UserWarning: KMeans is known to have a memory leak on Windows with MKL, when there are less chunks than available threads. You can avoid it by setting the environment variable OMP_NUM_THREADS=1.\n",
      "  warnings.warn(\n"
     ]
    },
    {
     "data": {
      "image/png": "[encoded data removed]",
      "text/plain": [
       "<Figure size 640x480 with 1 Axes>"
      ]
     },
     "metadata": {},
     "output_type": "display_data"
    }
   ],
   "source": [
    "optimal_k = 3\n",
    "\n",
    "kmeans = KMeans(n_clusters= optimal_k, random_state=42)\n",
    "merged_df['Cluster'] = kmeans.fit_predict(merged_df[['Average Marks']])\n",
    "\n",
    "plt.scatter(merged_df['Average Marks'], merged_df['Best Marks'], c=merged_df['Cluster'])\n",
    "plt.xlabel('Best Marks')\n",
    "plt.ylabel('Average Marks')\n",
    "plt.title('K-Means Clustering')\n",
    "plt.show()"
   ]
  },
  {
   "cell_type": "code",
   "execution_count": null,
   "id": "d239db87-c547-4f29-a84e-97fd3e70a5a0",
   "metadata": {},
   "outputs": [],
   "source": []
  },
  {
   "cell_type": "code",
   "execution_count": null,
   "id": "24c4e8e3-5ac0-4eba-90ca-a23cfe97507b",
   "metadata": {},
   "outputs": [],
   "source": []
  }
 ],
 "metadata": {
  "kernelspec": {
   "display_name": "Python [conda env:base] *",
   "language": "python",
   "name": "conda-base-py"
  },
  "language_info": {
   "codemirror_mode": {
    "name": "ipython",
    "version": 3
   },
   "file_extension": ".py",
   "mimetype": "text/x-python",
   "name": "python",
   "nbconvert_exporter": "python",
   "pygments_lexer": "ipython3",
   "version": "3.12.7"
  }
 },
 "nbformat": 4,
 "nbformat_minor": 5
}
